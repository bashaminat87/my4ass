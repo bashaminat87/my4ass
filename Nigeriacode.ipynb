{
 "cells": [
  {
   "cell_type": "code",
   "execution_count": 1,
   "id": "67cadeba",
   "metadata": {},
   "outputs": [],
   "source": [
    "West = [\"Osun\", \"Ogun\", \"Ekiti\", \"Ondo\", \"Sokoto\"]\n",
    "North = [\"Kano\", \"Yola\", \"Jalingo\", \"Maiduguri\"]\n",
    "East = [\"Enugu\",\"Abia\", \"Dutse\", \"Rivers\"]\n"
   ]
  },
  {
   "cell_type": "code",
   "execution_count": 2,
   "id": "c04dfad5",
   "metadata": {},
   "outputs": [
    {
     "name": "stdout",
     "output_type": "stream",
     "text": [
      "['Osun', 'Ogun', 'Ekiti', 'Ondo', 'Lagos']\n"
     ]
    }
   ],
   "source": [
    "West[4] =\"Lagos\"\n",
    "print (West)"
   ]
  },
  {
   "cell_type": "code",
   "execution_count": 3,
   "id": "d557ee9a",
   "metadata": {},
   "outputs": [],
   "source": [
    "nigeria = {}"
   ]
  },
  {
   "cell_type": "code",
   "execution_count": 4,
   "id": "2edd94b9",
   "metadata": {},
   "outputs": [
    {
     "name": "stdout",
     "output_type": "stream",
     "text": [
      "{'West': ['Osun', 'Ogun', 'Ekiti', 'Ondo', 'Lagos'], 'North': ['Kano', 'Yola', 'Jalingo', 'Maiduguri'], 'East': ['Enugu', 'Abia', 'Dutse', 'Rivers']}\n"
     ]
    }
   ],
   "source": [
    "nigeria = {'West': West, \"North\": North, \"East\": East }\n",
    "print (nigeria)"
   ]
  },
  {
   "cell_type": "code",
   "execution_count": 5,
   "id": "7556097e",
   "metadata": {},
   "outputs": [],
   "source": [
    "nigeria = {'West': West}\n",
    "nigeria = {\"North: North\"}\n",
    "nigeria = {\"East\": East}"
   ]
  },
  {
   "cell_type": "code",
   "execution_count": 6,
   "id": "fc6fc18c",
   "metadata": {},
   "outputs": [
    {
     "name": "stdout",
     "output_type": "stream",
     "text": [
      "{'East': ['Enugu', 'Abia', 'Dutse', 'Rivers']}\n"
     ]
    }
   ],
   "source": [
    "print (nigeria)"
   ]
  },
  {
   "cell_type": "code",
   "execution_count": null,
   "id": "3bd95406",
   "metadata": {},
   "outputs": [],
   "source": []
  }
 ],
 "metadata": {
  "kernelspec": {
   "display_name": "Python 3 (ipykernel)",
   "language": "python",
   "name": "python3"
  },
  "language_info": {
   "codemirror_mode": {
    "name": "ipython",
    "version": 3
   },
   "file_extension": ".py",
   "mimetype": "text/x-python",
   "name": "python",
   "nbconvert_exporter": "python",
   "pygments_lexer": "ipython3",
   "version": "3.11.4"
  }
 },
 "nbformat": 4,
 "nbformat_minor": 5
}
